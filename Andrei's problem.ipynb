{
 "cells": [
  {
   "cell_type": "code",
   "execution_count": 1,
   "metadata": {
    "collapsed": false
   },
   "outputs": [],
   "source": [
    "%matplotlib inline\n",
    "import pandas as pd\n",
    "import numpy as np\n",
    "import random\n",
    "import matplotlib.pyplot as plt\n"
   ]
  },
  {
   "cell_type": "code",
   "execution_count": 2,
   "metadata": {
    "collapsed": false
   },
   "outputs": [],
   "source": [
    "# Make a distribution by multiplying 100 random numbers together\n",
    "b = []\n",
    "number = 10000\n",
    "for i in range(number):\n",
    "    a = 0.6 + np.random.random(100)\n",
    "    b.append(np.product(a))"
   ]
  },
  {
   "cell_type": "code",
   "execution_count": 3,
   "metadata": {
    "collapsed": false
   },
   "outputs": [
    {
     "name": "stdout",
     "output_type": "stream",
     "text": [
      "Median =  357.91066473\n",
      "Mean =  12964.6822449\n"
     ]
    },
    {
     "data": {
      "text/html": [
       "<div>\n",
       "<table border=\"1\" class=\"dataframe\">\n",
       "  <thead>\n",
       "    <tr style=\"text-align: right;\">\n",
       "      <th></th>\n",
       "      <th>cost</th>\n",
       "    </tr>\n",
       "  </thead>\n",
       "  <tbody>\n",
       "    <tr>\n",
       "      <th>count</th>\n",
       "      <td>10000.000000</td>\n",
       "    </tr>\n",
       "    <tr>\n",
       "      <th>mean</th>\n",
       "      <td>12964.682245</td>\n",
       "    </tr>\n",
       "    <tr>\n",
       "      <th>std</th>\n",
       "      <td>161436.424564</td>\n",
       "    </tr>\n",
       "    <tr>\n",
       "      <th>min</th>\n",
       "      <td>0.003920</td>\n",
       "    </tr>\n",
       "    <tr>\n",
       "      <th>25%</th>\n",
       "      <td>54.992165</td>\n",
       "    </tr>\n",
       "    <tr>\n",
       "      <th>50%</th>\n",
       "      <td>357.910665</td>\n",
       "    </tr>\n",
       "    <tr>\n",
       "      <th>75%</th>\n",
       "      <td>2276.822146</td>\n",
       "    </tr>\n",
       "    <tr>\n",
       "      <th>max</th>\n",
       "      <td>13842123.530903</td>\n",
       "    </tr>\n",
       "  </tbody>\n",
       "</table>\n",
       "</div>"
      ],
      "text/plain": [
       "                  cost\n",
       "count     10000.000000\n",
       "mean      12964.682245\n",
       "std      161436.424564\n",
       "min           0.003920\n",
       "25%          54.992165\n",
       "50%         357.910665\n",
       "75%        2276.822146\n",
       "max    13842123.530903"
      ]
     },
     "execution_count": 3,
     "metadata": {},
     "output_type": "execute_result"
    }
   ],
   "source": [
    "# Print the median, and the mean.\n",
    "df = pd.DataFrame(b, columns = ['cost'])\n",
    "print 'Median = ', df.median()['cost']\n",
    "print'Mean = ', df.mean()['cost']\n",
    "df.describe()"
   ]
  },
  {
   "cell_type": "code",
   "execution_count": 4,
   "metadata": {
    "collapsed": false
   },
   "outputs": [
    {
     "data": {
      "text/plain": [
       "<matplotlib.axes.AxesSubplot at 0x7ff1795593d0>"
      ]
     },
     "execution_count": 4,
     "metadata": {},
     "output_type": "execute_result"
    },
    {
     "data": {
      "text/plain": [
       "<matplotlib.figure.Figure at 0x7ff1797a13d0>"
      ]
     },
     "metadata": {},
     "output_type": "display_data"
    },
    {
     "data": {
      "image/png": "[encoded data removed]",
      "text/plain": [
       "<matplotlib.figure.Figure at 0x7ff195d55190>"
      ]
     },
     "metadata": {},
     "output_type": "display_data"
    }
   ],
   "source": [
    "# Plot it to check what it looks like\n",
    "plt.figure();\n",
    "df.plot(kind='hist', bins=np.arange(0., 1000, 10))"
   ]
  },
  {
   "cell_type": "code",
   "execution_count": 5,
   "metadata": {
    "collapsed": false
   },
   "outputs": [],
   "source": [
    "# For a certain number of iterations, take a random sample of a proportion of the overall number, and calculate the\n",
    "# average cost per event by taking the mean.\n",
    "sample_df = pd.DataFrame(columns = ['1', '5%', '10%', '20%', '30%', '40%', '50%', '60%', '70%', '80%', '90%', '95%'])\n",
    "\n",
    "for i in range(1000):\n",
    "    new_df = pd.DataFrame({\n",
    "            '1': df.ix[random.sample(df.index, 1)].mean()['cost'],\n",
    "            '5%': df.ix[random.sample(df.index, int(0.05 * number))].mean()['cost'],\n",
    "            '10%': df.ix[random.sample(df.index, int(0.1 * number))].mean()['cost'],\n",
    "            '20%': df.ix[random.sample(df.index, int(0.2 * number))].mean()['cost'],\n",
    "            '30%': df.ix[random.sample(df.index, int(0.3 * number))].mean()['cost'],\n",
    "            '40%': df.ix[random.sample(df.index, int(0.4 * number))].mean()['cost'],\n",
    "            '50%': df.ix[random.sample(df.index, int(0.5 * number))].mean()['cost'],\n",
    "            '60%': df.ix[random.sample(df.index, int(0.6 * number))].mean()['cost'],\n",
    "            '70%': df.ix[random.sample(df.index, int(0.7 * number))].mean()['cost'],\n",
    "            '80%': df.ix[random.sample(df.index, int(0.8 * number))].mean()['cost'],\n",
    "            '90%': df.ix[random.sample(df.index, int(0.9 * number))].mean()['cost'],\n",
    "            '95%': df.ix[random.sample(df.index, int(0.95 * number))].mean()['cost']\n",
    "        }, index = [0])\n",
    "    sample_df = sample_df.append(new_df, ignore_index=True)"
   ]
  },
  {
   "cell_type": "code",
   "execution_count": 6,
   "metadata": {
    "collapsed": false
   },
   "outputs": [
    {
     "data": {
      "text/plain": [
       "<matplotlib.axes.AxesSubplot at 0x7ff17950e450>"
      ]
     },
     "execution_count": 6,
     "metadata": {},
     "output_type": "execute_result"
    },
    {
     "data": {
      "image/png": "[encoded data removed]",
      "text/plain": [
       "<matplotlib.figure.Figure at 0x7ff195d50ad0>"
      ]
     },
     "metadata": {},
     "output_type": "display_data"
    }
   ],
   "source": [
    "# Plot the average of each of iterations for each % of the overall number sampled. Smaller samples have higher noise\n",
    "# due to them being an average of fewer points, this is not a trend.\n",
    "pd.DataFrame(sample_df.mean(), columns = ['Cost per event']).plot(ylim = [0,20000])"
   ]
  },
  {
   "cell_type": "code",
   "execution_count": null,
   "metadata": {
    "collapsed": true
   },
   "outputs": [],
   "source": []
  }
 ],
 "metadata": {
  "kernelspec": {
   "display_name": "Python 2",
   "language": "python",
   "name": "python2"
  },
  "language_info": {
   "codemirror_mode": {
    "name": "ipython",
    "version": 2
   },
   "file_extension": ".py",
   "mimetype": "text/x-python",
   "name": "python",
   "nbconvert_exporter": "python",
   "pygments_lexer": "ipython2",
   "version": "2.7.6"
  }
 },
 "nbformat": 4,
 "nbformat_minor": 0
}
